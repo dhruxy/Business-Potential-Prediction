{
 "cells": [
  {
   "cell_type": "code",
   "execution_count": 9,
   "id": "4178c123",
   "metadata": {},
   "outputs": [
    {
     "name": "stdout",
     "output_type": "stream",
     "text": [
      "        Month  Region 1  Region 2  Region 3  Region 4  Region 5  Region 6  \\\n",
      "0    1/1/2013  0.154325  0.119708  0.178236  0.225016  0.318976  0.049922   \n",
      "1    1/2/2013  0.122901  0.119831  0.165497  0.220602  0.316835  0.082337   \n",
      "2    1/3/2013  0.127583  0.112970  0.190754  0.224240  0.328486  0.083182   \n",
      "3    1/4/2013  0.501557  0.326049  0.321733  0.330916  0.483001  0.156701   \n",
      "4    1/5/2013  0.103551  0.098852  0.203126  0.268934  0.380898  0.013289   \n",
      "..        ...       ...       ...       ...       ...       ...       ...   \n",
      "67   1/8/2018  0.234171  0.218367  0.263643  0.228902  0.289498  0.182184   \n",
      "68   1/9/2018  0.294693  0.275179  0.296751  0.291502  0.368923  0.254764   \n",
      "69  1/10/2018  0.373754  0.344997  0.400269  0.364874  0.416527  0.274649   \n",
      "70  1/11/2018  0.333642  0.300503  0.360406  0.311379  0.372523  0.270893   \n",
      "71  1/12/2018  0.242176  0.215147  0.335923  0.271102  0.392835  0.158835   \n",
      "\n",
      "    Region 7  Region 8  Region 9  ...  Region 3906  Region 3907  Region 3908  \\\n",
      "0   0.219802  0.069055  0.186616  ...     0.154372     0.338739     0.253205   \n",
      "1   0.175329  0.059602  0.185539  ...     0.180818     0.424401     0.336452   \n",
      "2   0.178562  0.071814  0.207523  ...     0.407456     0.485308     0.369691   \n",
      "3   0.245769  0.123014  0.364449  ...     0.403261     0.473134     0.376600   \n",
      "4   0.139204  0.078820  0.165327  ...     0.334762     0.357057     0.402745   \n",
      "..       ...       ...       ...  ...          ...          ...          ...   \n",
      "67  0.338011  0.174733  0.233715  ...     0.543904     0.485205     0.373730   \n",
      "68  0.312503  0.223991  0.325548  ...     0.570894     0.546334     0.498556   \n",
      "69  0.441609  0.307967  0.356959  ...     0.940555     0.864838     0.792921   \n",
      "70  0.451656  0.263421  0.321840  ...     0.857168     0.811490     0.762896   \n",
      "71  0.497736  0.179808  0.249099  ...     0.654800     0.605959     0.564567   \n",
      "\n",
      "    Region 3909  Region 3910  Region 3911  Region 3912  Region 3913  \\\n",
      "0      0.233119     0.199864     3.400484     0.374751     0.463527   \n",
      "1      0.290894     0.328968     3.999567     0.478654     0.571315   \n",
      "2      0.301755     0.271360     3.308452     0.501871     0.644025   \n",
      "3      0.358181     0.447163     2.636698     0.481275     0.636814   \n",
      "4      0.304655     0.260061     2.191918     0.436495     0.496774   \n",
      "..          ...          ...          ...          ...          ...   \n",
      "67     0.438972     0.289112     2.733757     0.551515     0.560397   \n",
      "68     0.499537     0.392619     2.472169     0.604042     0.737536   \n",
      "69     0.841714     0.558779     3.531807     0.972735     1.207824   \n",
      "70     0.803879     0.544401     3.057962     0.947009     1.147999   \n",
      "71     0.670066     0.389241     3.118734     0.806398     0.768685   \n",
      "\n",
      "    Region 3914  Region 3915  \n",
      "0      1.641510     0.307089  \n",
      "1      1.649937     0.451604  \n",
      "2      2.110449     0.448063  \n",
      "3      1.642345     0.464692  \n",
      "4      1.002016     0.384780  \n",
      "..          ...          ...  \n",
      "67     1.043067     0.467049  \n",
      "68     1.123075     0.546029  \n",
      "69     1.773948     0.817059  \n",
      "70     1.640214     0.754813  \n",
      "71     1.489277     0.542317  \n",
      "\n",
      "[72 rows x 3916 columns]\n",
      "<TimeSeries (DataArray) (Month: 72, component: 3915, sample: 1)>\n",
      "array([[[0.1543245 ],\n",
      "        [0.11970796],\n",
      "        [0.17823648],\n",
      "        ...,\n",
      "        [0.46352725],\n",
      "        [1.64151026],\n",
      "        [0.30708925]],\n",
      "\n",
      "       [[0.12290076],\n",
      "        [0.11983117],\n",
      "        [0.16549748],\n",
      "        ...,\n",
      "        [0.57131545],\n",
      "        [1.64993684],\n",
      "        [0.45160385]],\n",
      "\n",
      "       [[0.12758278],\n",
      "        [0.11297011],\n",
      "        [0.19075444],\n",
      "        ...,\n",
      "...\n",
      "        ...,\n",
      "        [1.20782415],\n",
      "        [1.77394841],\n",
      "        [0.81705893]],\n",
      "\n",
      "       [[0.3336417 ],\n",
      "        [0.30050302],\n",
      "        [0.36040647],\n",
      "        ...,\n",
      "        [1.1479989 ],\n",
      "        [1.64021404],\n",
      "        [0.75481252]],\n",
      "\n",
      "       [[0.24217588],\n",
      "        [0.21514682],\n",
      "        [0.33592286],\n",
      "        ...,\n",
      "        [0.76868481],\n",
      "        [1.48927726],\n",
      "        [0.54231719]]])\n",
      "Coordinates:\n",
      "  * Month      (Month) datetime64[ns] 2013-01-01 2013-02-01 ... 2018-12-01\n",
      "  * component  (component) object 'Region 1' 'Region 2' ... 'Region 3915'\n",
      "Dimensions without coordinates: sample\n"
     ]
    }
   ],
   "source": [
    "# multivariate multi-step data preparation\n",
    "import numpy as np\n",
    "import pandas as pd\n",
    "from matplotlib import pyplot as plt\n",
    "from sklearn.preprocessing import StandardScaler\n",
    "import seaborn as sns\n",
    "from darts import TimeSeries\n",
    "from darts.utils.timeseries_generation import gaussian_timeseries, linear_timeseries, sine_timeseries\n",
    "from darts.models import RegressionModel\n",
    "from darts.metrics import mape, smape\n",
    "from darts.dataprocessing.transformers import Scaler\n",
    "from darts.metrics import mape, mase\n",
    "\n",
    "df = pd.read_csv('Dasatest_N0.csv')\n",
    "print(df)\n",
    "df['Month'] = pd.to_datetime(df.Month , format = '%d/%m/%Y')\n",
    "series = TimeSeries.from_dataframe(df,'Month')\n",
    "print(series)\n"
   ]
  },
  {
   "cell_type": "code",
   "execution_count": 10,
   "id": "2207df2b",
   "metadata": {},
   "outputs": [],
   "source": [
    "# train, val = series.split_after(pd.Timestamp('2017-12-01'))\n",
    "train = series"
   ]
  },
  {
   "cell_type": "code",
   "execution_count": 11,
   "id": "96d56895",
   "metadata": {},
   "outputs": [],
   "source": [
    "from darts.utils.timeseries_generation import datetime_attribute_timeseries\n",
    "transformer = Scaler()\n",
    "train_transformed = transformer.fit_transform(train)"
   ]
  },
  {
   "cell_type": "code",
   "execution_count": 12,
   "id": "4e634b58",
   "metadata": {},
   "outputs": [],
   "source": [
    "model_RM = RegressionModel(lags=12)"
   ]
  },
  {
   "cell_type": "code",
   "execution_count": 13,
   "id": "c01455a1",
   "metadata": {},
   "outputs": [],
   "source": [
    "model_RM.fit(train_transformed)\n",
    "forecast_trans = model_RM.predict(15)\n",
    "forecast = transformer.inverse_transform(forecast_trans)"
   ]
  },
  {
   "cell_type": "code",
   "execution_count": 14,
   "id": "e1a85810",
   "metadata": {},
   "outputs": [
    {
     "name": "stdout",
     "output_type": "stream",
     "text": [
      "(15, 3915)\n",
      "[0.24253123 0.25308422 0.31703231 0.37195519 0.35059593 0.27028093\n",
      " 0.2662452  0.30157719 0.29860434 0.36133764 0.34714881 0.32090026\n",
      " 0.23636502 0.25328208 0.32974751]\n"
     ]
    }
   ],
   "source": [
    "pred1 = forecast.pd_dataframe()\n",
    "pred1 = np.array(pred1)\n",
    "print(pred1.shape)\n",
    "print(pred1[:,0])"
   ]
  },
  {
   "cell_type": "code",
   "execution_count": 15,
   "id": "b66bd763",
   "metadata": {},
   "outputs": [
    {
     "name": "stdout",
     "output_type": "stream",
     "text": [
      "Your submission was successfully saved!\n"
     ]
    }
   ],
   "source": [
    "output = pd.DataFrame(pred1)\n",
    "output.to_csv('submission_RM.csv')\n",
    "print(\"Your submission was successfully saved!\")"
   ]
  },
  {
   "cell_type": "code",
   "execution_count": null,
   "id": "3e320aa0",
   "metadata": {},
   "outputs": [],
   "source": []
  }
 ],
 "metadata": {
  "kernelspec": {
   "display_name": "Python 3",
   "language": "python",
   "name": "python3"
  },
  "language_info": {
   "codemirror_mode": {
    "name": "ipython",
    "version": 3
   },
   "file_extension": ".py",
   "mimetype": "text/x-python",
   "name": "python",
   "nbconvert_exporter": "python",
   "pygments_lexer": "ipython3",
   "version": "3.8.8"
  }
 },
 "nbformat": 4,
 "nbformat_minor": 5
}
