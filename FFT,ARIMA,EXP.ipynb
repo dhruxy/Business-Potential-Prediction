{
 "cells": [
  {
   "cell_type": "code",
   "execution_count": null,
   "id": "868b8607",
   "metadata": {},
   "outputs": [],
   "source": [
    "import numpy as np\n",
    "import pandas as pd\n",
    "from matplotlib import pyplot as plt\n",
    "from sklearn.preprocessing import StandardScaler\n",
    "import seaborn as sns\n",
    "from darts import TimeSeries\n",
    "from darts.utils.timeseries_generation import gaussian_timeseries, linear_timeseries, sine_timeseries\n",
    "from darts.models import FFT,ExponentialSmoothing,ARIMA,RegressionEnsembleModel\n",
    "from darts.metrics import mape, smape\n",
    "from darts.dataprocessing.transformers import Scaler\n",
    "from darts.metrics import mape, mase\n",
    "from darts.utils.timeseries_generation import datetime_attribute_timeseries\n",
    "from tqdm import tqdm"
   ]
  },
  {
   "cell_type": "code",
   "execution_count": null,
   "id": "310e9553",
   "metadata": {},
   "outputs": [],
   "source": [
    "df = pd.read_csv('Dasatest_N.csv')\n",
    "df['Month'] = pd.to_datetime(df.Month , format = '%d-%m-%Y')"
   ]
  },
  {
   "cell_type": "code",
   "execution_count": null,
   "id": "1dad56ac",
   "metadata": {},
   "outputs": [],
   "source": [
    "model_exp = ExponentialSmoothing()\n",
    "model_ARIMA = ARIMA()\n",
    "model_FFT = FFT()\n",
    "model_ens = RegressionEnsembleModel(\n",
    "    [model_ARIMA,model_FFT,model_exp],\n",
    "    regression_train_n_points = 12)"
   ]
  },
  {
   "cell_type": "code",
   "execution_count": null,
   "id": "2702a863",
   "metadata": {},
   "outputs": [],
   "source": [
    "pred = np.zeros([15,3915])"
   ]
  },
  {
   "cell_type": "code",
   "execution_count": null,
   "id": "b2bb8354",
   "metadata": {},
   "outputs": [],
   "source": [
    "i = 1\n",
    "print(df[[\"Month\",f\"Region {i}\"]])"
   ]
  },
  {
   "cell_type": "code",
   "execution_count": null,
   "id": "4feafe4d",
   "metadata": {},
   "outputs": [],
   "source": [
    "for i in tqdm(range(3915)):\n",
    "    df1 = df[[\"Month\",f\"Region {i+1}\"]]\n",
    "    series = TimeSeries.from_dataframe(df1,'Month')\n",
    "#     print(series)\n",
    "    train = series\n",
    "    transformer = Scaler()\n",
    "    train_transformed = transformer.fit_transform(train)\n",
    "    model_ens.fit(train_transformed)\n",
    "    forecast_trans = model_ens.predict(15)\n",
    "    forecast = transformer.inverse_transform(forecast_trans)\n",
    "    pred1 = forecast.pd_dataframe()\n",
    "    pred1 = np.array(pred1)\n",
    "    print(pred1.shape)\n",
    "    pred[:,i] = pred1.flatten()\n",
    "    print(i,i)"
   ]
  },
  {
   "cell_type": "code",
   "execution_count": null,
   "id": "0e3ee2e7",
   "metadata": {},
   "outputs": [],
   "source": [
    "print(pred)"
   ]
  },
  {
   "cell_type": "code",
   "execution_count": null,
   "id": "5a49887b",
   "metadata": {},
   "outputs": [],
   "source": [
    "output = pd.DataFrame(pred)\n",
    "output.to_csv('submission_ensemcble.csv')\n",
    "print(\"Your submission was successfully saved!\")"
   ]
  }
 ],
 "metadata": {
  "kernelspec": {
   "display_name": "Python 3",
   "language": "python",
   "name": "python3"
  },
  "language_info": {
   "codemirror_mode": {
    "name": "ipython",
    "version": 3
   },
   "file_extension": ".py",
   "mimetype": "text/x-python",
   "name": "python",
   "nbconvert_exporter": "python",
   "pygments_lexer": "ipython3",
   "version": "3.8.8"
  }
 },
 "nbformat": 4,
 "nbformat_minor": 5
}
