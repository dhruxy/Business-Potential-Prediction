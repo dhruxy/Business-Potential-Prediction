{
 "cells": [
  {
   "cell_type": "code",
   "execution_count": 20,
   "id": "71bb9d19",
   "metadata": {},
   "outputs": [],
   "source": [
    "# forecast monthly births with xgboost\n",
    "from numpy import asarray\n",
    "from pandas import read_csv\n",
    "from pandas import DataFrame\n",
    "from pandas import concat\n",
    "from sklearn.metrics import mean_absolute_percentage_error\n",
    "from xgboost import XGBRegressor\n",
    "from matplotlib import pyplot\n",
    "import numpy as np\n",
    "import pandas as pd"
   ]
  },
  {
   "cell_type": "code",
   "execution_count": 26,
   "id": "ef99a5fa",
   "metadata": {},
   "outputs": [],
   "source": [
    "df = pd.read_csv('Dasatest_N.csv')\n",
    "df['Month'] = pd.to_datetime(df.Month , format = '%d-%m-%Y')\n",
    "data_frame = df.drop(['Month'], axis=1)\n",
    "data_frame.index = df.Month\n",
    "cols = data_frame.columns\n",
    "data_frame.index.freq = 'MS'"
   ]
  },
  {
   "cell_type": "code",
   "execution_count": 55,
   "id": "85bd73be",
   "metadata": {},
   "outputs": [
    {
     "name": "stdout",
     "output_type": "stream",
     "text": [
      "[0.17823648 0.16549748 0.19075444 0.32173308 0.20312644 0.04834462\n",
      " 0.18006378 0.17699003 0.22417279 0.2238101  0.07030606 0.31409357\n",
      " 0.25362672 0.31700699 0.49354767 0.35626946 0.30131239 0.29578345\n",
      " 0.213944   0.22555971 0.19962786 0.29516055 0.30114212 0.36907415\n",
      " 0.14887313 0.14864796 0.14128585 0.17659463 0.29808062 0.2476863\n",
      " 0.07335822 0.16707072 0.3691977  0.27328457 0.16652193 0.23255613\n",
      " 0.32411527 0.33724036 0.32881964 0.48837095 0.45294321 0.29971693\n",
      " 0.2768855  0.35326915 0.39137632 0.57588791 0.41283387 0.40444602\n",
      " 0.31516125 0.41367919 0.43642823 0.4523301  0.3555332  0.3975923\n",
      " 0.42992231 0.31547104 0.42569258 0.43753179 0.40187582 0.32058841\n",
      " 0.31055657 0.28562714 0.33198779 0.37764262 0.3849899  0.36292685\n",
      " 0.23051629 0.26364287 0.29675056 0.40026859 0.36040647 0.33592286]\n",
      "MAPE: 0.166\n"
     ]
    },
    {
     "data": {
      "image/png": "[encoded data removed]",
      "text/plain": [
       "<Figure size 432x288 with 1 Axes>"
      ]
     },
     "metadata": {
      "needs_background": "light"
     },
     "output_type": "display_data"
    }
   ],
   "source": [
    "# transform a time series dataset into a supervised learning dataset\n",
    "def series_to_supervised(data, n_in=1, n_out=1, dropnan=True):\n",
    "# \tn_vars = 1 if type(data) is list else data.shape[1]\n",
    "\tdf = DataFrame(data)\n",
    "\tcols = list()\n",
    "\t# input sequence (t-n, ... t-1)\n",
    "\tfor i in range(n_in, 0, -1):\n",
    "\t\tcols.append(df.shift(i))\n",
    "\t# forecast sequence (t, t+1, ... t+n)\n",
    "\tfor i in range(0, n_out):\n",
    "\t\tcols.append(df.shift(-i))\n",
    "\t# put it all together\n",
    "\tagg = concat(cols, axis=1)\n",
    "\t# drop rows with NaN values\n",
    "\tif dropnan:\n",
    "\t\tagg.dropna(inplace=True)\n",
    "\treturn agg.values\n",
    " \n",
    "# split a univariate dataset into train/test sets\n",
    "def train_test_split(data, n_test):\n",
    "\treturn data[:-n_test, :], data[-n_test:, :]\n",
    " \n",
    "# fit an xgboost model and make a one step prediction\n",
    "def xgboost_forecast(train, testX):\n",
    "\t# transform list into array\n",
    "\ttrain = asarray(train)\n",
    "\t# split into input and output columns\n",
    "\ttrainX, trainy = train[:, :-1], train[:, -1]\n",
    "\t# fit model\n",
    "\tmodel = XGBRegressor(objective='reg:squarederror', n_estimators=1000)\n",
    "\tmodel.fit(trainX, trainy)\n",
    "\t# make a one-step prediction\n",
    "\tyhat = model.predict(asarray([testX]))\n",
    "\treturn yhat[0]\n",
    " \n",
    "# walk-forward validation for univariate data\n",
    "def walk_forward_validation(data, n_test):\n",
    "\tpredictions = list()\n",
    "    train = data\n",
    "\t# split dataset\n",
    "# \ttrain, test = train_test_split(data, n_test)\n",
    "\t# seed history with training dataset\n",
    "\thistory = [x for x in train]\n",
    "\t# step over each time-step in the test set\n",
    "\tfor i in range(len(test)):\n",
    "\t\t# split test row into input and output columns\n",
    "\t\ttestX, testy = test[i, :-1], test[i, -1]\n",
    "\t\t# fit model on history and make a prediction\n",
    "\t\tyhat = xgboost_forecast(history, testX)\n",
    "\t\t# store forecast in list of predictions\n",
    "\t\tpredictions.append(yhat)\n",
    "\t\t# add actual observation to history for the next loop\n",
    "\t\thistory.append(test[i])\n",
    "\t\t# summarize progress\n",
    "# \t\tprint('>expected=%.1f, predicted=%.1f' % (testy, yhat))\n",
    "\t# estimate prediction error\n",
    "\terror = mean_absolute_percentage_error(test[:, -1], predictions)\n",
    "\treturn error, test[:, -1], predictions\n",
    " \n",
    "# load the dataset\n",
    "series = data_frame.iloc[:,2]\n",
    "values = series.values\n",
    "print(values)\n",
    "# transform the time series data into supervised learning\n",
    "data = series_to_supervised(values, n_in=24,n_out=3)\n",
    "# evaluate\n",
    "mape, y, yhat = walk_forward_validation(data, 12)\n",
    "print('MAPE: %.3f' % mape)\n",
    "# plot expected vs preducted\n",
    "pyplot.plot(y, label='Expected')\n",
    "pyplot.plot(yhat, label='Predicted')\n",
    "pyplot.legend()\n",
    "pyplot.show()"
   ]
  },
  {
   "cell_type": "code",
   "execution_count": null,
   "id": "8d3f2d23",
   "metadata": {},
   "outputs": [],
   "source": []
  }
 ],
 "metadata": {
  "kernelspec": {
   "display_name": "Python 3",
   "language": "python",
   "name": "python3"
  },
  "language_info": {
   "codemirror_mode": {
    "name": "ipython",
    "version": 3
   },
   "file_extension": ".py",
   "mimetype": "text/x-python",
   "name": "python",
   "nbconvert_exporter": "python",
   "pygments_lexer": "ipython3",
   "version": "3.8.8"
  }
 },
 "nbformat": 4,
 "nbformat_minor": 5
}
