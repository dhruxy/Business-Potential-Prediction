{
 "cells": [
  {
   "cell_type": "code",
   "execution_count": 1,
   "id": "9f531ce5",
   "metadata": {},
   "outputs": [],
   "source": [
    "import numpy as np\n",
    "from numpy import asarray\n",
    "import pandas as pd\n",
    "from matplotlib import pyplot as plt\n",
    "from sklearn.preprocessing import MinMaxScaler\n",
    "import seaborn as sns\n",
    "from keras.models import Sequential\n",
    "from keras.layers import LSTM, Dropout\n",
    "from keras.layers import Dense\n",
    "from keras.layers import RepeatVector\n",
    "from keras.layers import TimeDistributed\n",
    "from keras.layers import Flatten\n",
    "from tqdm import tqdm\n",
    "from sklearn.metrics import mean_absolute_percentage_error\n",
    "from sklearn.metrics import mean_squared_error\n",
    "from sklearn.ensemble import RandomForestRegressor\n",
    "from pandas import read_csv\n",
    "from pandas import DataFrame\n",
    "from pandas import concat\n",
    "from xgboost import XGBRegressor"
   ]
  },
  {
   "cell_type": "code",
   "execution_count": 23,
   "id": "e696bdec",
   "metadata": {},
   "outputs": [],
   "source": [
    "from sklearn.tree import ExtraTreeRegressor"
   ]
  },
  {
   "cell_type": "code",
   "execution_count": 3,
   "id": "92ad23c6",
   "metadata": {},
   "outputs": [],
   "source": [
    "df = pd.read_csv('Dasatest_N0.csv')\n",
    "df['Month'] = pd.to_datetime(df.Month , format = '%d/%m/%Y')\n",
    "data = df.drop(['Month'], axis=1)\n",
    "data.index = df.Month\n",
    "cols = data.columns"
   ]
  },
  {
   "cell_type": "code",
   "execution_count": 4,
   "id": "ef53f6d0",
   "metadata": {},
   "outputs": [],
   "source": [
    "pred = np.zeros([15,3915])"
   ]
  },
  {
   "cell_type": "code",
   "execution_count": 5,
   "id": "f2491d15",
   "metadata": {},
   "outputs": [],
   "source": [
    "# preparing independent and dependent features\n",
    "def prepare_data(timeseries_data, n_features):\n",
    "\tX, y =[],[]\n",
    "\tfor i in range(len(timeseries_data)):\n",
    "\t\t# find the end of this pattern\n",
    "\t\tend_ix = i + n_features\n",
    "\t\t# check if we are beyond the sequence\n",
    "\t\tif end_ix > len(timeseries_data)-1:\n",
    "\t\t\tbreak\n",
    "\t\t# gather input and output parts of the pattern\n",
    "\t\tseq_x, seq_y = timeseries_data[i:end_ix], timeseries_data[end_ix]\n",
    "\t\tX.append(seq_x)\n",
    "\t\ty.append(seq_y)\n",
    "\treturn np.array(X), np.array(y)"
   ]
  },
  {
   "cell_type": "code",
   "execution_count": 6,
   "id": "276e5602",
   "metadata": {},
   "outputs": [],
   "source": [
    "def series_to_supervised(data, n_in=1, n_out=1, dropnan=True):\n",
    "# \tn_vars = 1 if type(data) is list else data.shape[1]\n",
    "\tdf = DataFrame(data)\n",
    "\tcols = list()\n",
    "\t# input sequence (t-n, ... t-1)\n",
    "\tfor i in range(n_in, 0, -1):\n",
    "\t\tcols.append(df.shift(i))\n",
    "\t# forecast sequence (t, t+1, ... t+n)\n",
    "\tfor i in range(0, n_out):\n",
    "\t\tcols.append(df.shift(-i))\n",
    "\t# put it all together\n",
    "\tagg = concat(cols, axis=1)\n",
    "\t# drop rows with NaN values\n",
    "\tif dropnan:\n",
    "\t\tagg.dropna(inplace=True)\n",
    "\treturn agg.values  "
   ]
  },
  {
   "cell_type": "code",
   "execution_count": 7,
   "id": "b6219eb7",
   "metadata": {},
   "outputs": [],
   "source": [
    "def model_create(X, y):\n",
    "    model = XGBRegressor(objective='reg:squarederror', n_estimators=10)\n",
    "    model.fit(X, y)\n",
    "    return model"
   ]
  },
  {
   "cell_type": "code",
   "execution_count": 8,
   "id": "0301b472",
   "metadata": {},
   "outputs": [],
   "source": [
    "def model_create_2(X, y):\n",
    "    model = RandomForestRegressor(n_estimators=5)\n",
    "    model.fit(X, y)\n",
    "    return model"
   ]
  },
  {
   "cell_type": "code",
   "execution_count": 27,
   "id": "aec85c30",
   "metadata": {},
   "outputs": [],
   "source": [
    "def model_create_3(X, y):\n",
    "    model = DecisionTreeRegressor()\n",
    "    model.fit(X, y)\n",
    "    return model"
   ]
  },
  {
   "cell_type": "code",
   "execution_count": 26,
   "id": "52cc04e2",
   "metadata": {},
   "outputs": [],
   "source": [
    "def model_create_4(X, y):\n",
    "    model = ExtraTreeRegressor()\n",
    "    model.fit(X, y)\n",
    "    return model"
   ]
  },
  {
   "cell_type": "code",
   "execution_count": 10,
   "id": "7170dc5c",
   "metadata": {},
   "outputs": [],
   "source": [
    "scaler = MinMaxScaler()"
   ]
  },
  {
   "cell_type": "code",
   "execution_count": 11,
   "id": "5375e2b4",
   "metadata": {},
   "outputs": [],
   "source": [
    "def model_predict(model,X_input,n_steps,n_steps_out):   \n",
    "    x_input = X_input\n",
    "#     print(x_input)\n",
    "    temp_input = list(x_input)\n",
    "#     print(len(temp_input))\n",
    "    lst_output=[]\n",
    "    i = 0\n",
    "    while(i < n_steps_out):\n",
    "        \n",
    "        if(len(temp_input)>n_steps):\n",
    "            x_input=np.array(temp_input[1:])\n",
    "#             print(\"{} day input {}\".format(i,x_input))\n",
    "            #print(x_input)\n",
    "            x_input = x_input.reshape(n_steps)\n",
    "            #print(x_input)\n",
    "            yhat = model.predict(asarray([x_input]))\n",
    "#             print(\"{} day output {}\".format(i,yhat))\n",
    "            temp_input.append(yhat[0])\n",
    "            temp_input=temp_input[1:]\n",
    "            #print(temp_input)\n",
    "            lst_output.append(yhat[0])\n",
    "            i=i+1\n",
    "        else:\n",
    "            x_input = x_input.reshape(n_steps)\n",
    "            yhat = model.predict(asarray([x_input]))\n",
    "#             print(yhat[0])\n",
    "            temp_input.append(yhat[0])\n",
    "            lst_output.append(yhat[0])\n",
    "            i=i+1\n",
    "\n",
    "#     print(lst_output)\n",
    "    return(np.array(lst_output))"
   ]
  },
  {
   "cell_type": "code",
   "execution_count": 12,
   "id": "01bb1c34",
   "metadata": {},
   "outputs": [],
   "source": [
    "def plot_graph(X,pred):\n",
    "    time = np.arange(87)\n",
    "    plt.plot(time[60:72],X)\n",
    "    plt.plot(time[60:72],pred)\n",
    "    plt.show()"
   ]
  },
  {
   "cell_type": "code",
   "execution_count": 13,
   "id": "8c16f46e",
   "metadata": {},
   "outputs": [],
   "source": [
    "prediction = np.zeros([15,3915])\n",
    "prediction1 = np.zeros([15,3915])\n",
    "sum1 = 0 "
   ]
  },
  {
   "cell_type": "code",
   "execution_count": 14,
   "id": "97866a10",
   "metadata": {},
   "outputs": [],
   "source": [
    "def model_sarakam(n_in,train_real,rem):\n",
    "    train = series_to_supervised(train_real, n_in=n_in)\n",
    "    # split into input and output columns\n",
    "    trainX, trainy = train[:, :-1], train[:, -1]\n",
    "#     print(trainX.shape)\n",
    "    model = model_create(trainX, rem[-len(trainX):])\n",
    "    X_input = data_total[:n_in].reshape((n_in))\n",
    "    n_steps_out = len(trainX)\n",
    "    pred = model_predict(model,X_input,n_in,n_steps_out)\n",
    "    pred = np.array(pred)\n",
    "    return pred,model"
   ]
  },
  {
   "cell_type": "code",
   "execution_count": 15,
   "id": "2a547105",
   "metadata": {},
   "outputs": [],
   "source": [
    "def model_sarakam_2(n_in,train_real,rem):\n",
    "    train = series_to_supervised(train_real, n_in=n_in)\n",
    "    # split into input and output columns\n",
    "    trainX, trainy = train[:, :-1], train[:, -1]\n",
    "#     print(trainX.shape)\n",
    "    model = model_create_2(trainX, rem[-len(trainX):])\n",
    "    X_input = data_total[:n_in].reshape((n_in))\n",
    "    n_steps_out = len(trainX)\n",
    "    pred = model_predict(model,X_input,n_in,n_steps_out)\n",
    "    pred = np.array(pred)\n",
    "    return pred,model"
   ]
  },
  {
   "cell_type": "code",
   "execution_count": 16,
   "id": "7c3a659e",
   "metadata": {
    "scrolled": true
   },
   "outputs": [
    {
     "name": "stderr",
     "output_type": "stream",
     "text": [
      "100%|████████████████████████████████████████████████████████████████████████████| 3915/3915 [1:21:04<00:00,  1.24s/it]\n"
     ]
    }
   ],
   "source": [
    "sum1 = 0\n",
    "for i in tqdm(range(3915)):\n",
    "    data_total = np.array(data.iloc[:,i])\n",
    "    train_real = data_total\n",
    "#     valid = data_total[60:]\n",
    "    \n",
    "    n_in_1 = 6\n",
    "    pred1, model1 = model_sarakam(n_in_1,train_real,train_real)\n",
    "    rem1 = train_real[-len(pred1):] - pred1\n",
    "    \n",
    "    n_in_2 = 6\n",
    "    pred2, model2 = model_sarakam_2(n_in_2,train_real,rem1)\n",
    "    rem2 = rem1[-len(pred2):] - pred2\n",
    "    \n",
    "    n_in_3 = 12\n",
    "    pred3, model3 = model_sarakam(n_in_3,train_real,rem2)\n",
    "    rem3 = rem2[-len(pred3):] - pred3\n",
    "    \n",
    "    n_in_4 = 12\n",
    "    pred4, model4 = model_sarakam_2(n_in_4,train_real,rem3)\n",
    "    rem4 = rem3[-len(pred4):] - pred4\n",
    "    \n",
    "    n_in_5 = 18\n",
    "    pred5, model5 = model_sarakam(n_in_5,train_real,rem4)\n",
    "    rem5 = rem4[-len(pred5):] - pred5\n",
    "    \n",
    "    n_in_6 = 18\n",
    "    pred6, model6 = model_sarakam_2(n_in_6,train_real,rem5)\n",
    "    rem6 = rem5[-len(pred6):] - pred6\n",
    "    \n",
    "    n_in_7 = 24\n",
    "    pred7, model7 = model_sarakam(n_in_7,train_real,rem6)\n",
    "    rem7 = rem6[-len(pred7):] - pred7\n",
    "    \n",
    "    n_in_8 = 24\n",
    "    pred8, model8 = model_sarakam_2(n_in_8,train_real,rem7)\n",
    "    rem8 = rem7[-len(pred8):] - pred8\n",
    "    \n",
    "    n_in_9 = 30\n",
    "    pred9, model9 = model_sarakam(n_in_9,train_real,rem8)\n",
    "    rem9 = rem8[-len(pred9):] - pred9\n",
    "    \n",
    "    n_in_10 = 30\n",
    "    pred10, model10 = model_sarakam_2(n_in_10,train_real,rem9)\n",
    "    rem10 = rem9[-len(pred10):] - pred10\n",
    "    \n",
    "    n_in_11 = 36\n",
    "    pred11, model11 = model_sarakam(n_in_11,train_real,rem10)\n",
    "    rem11 = rem10[-len(pred11):] - pred11\n",
    "    \n",
    "    n_in_12 = 36\n",
    "    pred12, model12 = model_sarakam_2(n_in_12,train_real,rem11)\n",
    "    rem12 = rem11[-len(pred12):] - pred12\n",
    "    \n",
    "    n_steps_out = 15\n",
    "    \n",
    "    X_input_12 = train_real[-n_in_12:]\n",
    "    fpred_12 = model_predict(model12,X_input_12,n_in_12,n_steps_out)\n",
    "    \n",
    "    X_input_11 = train_real[-n_in_11:]\n",
    "    fpred_11 = model_predict(model11,X_input_11,n_in_11,n_steps_out)\n",
    "    \n",
    "    X_input_10 = train_real[-n_in_10:]\n",
    "    fpred_10 = model_predict(model10,X_input_10,n_in_10,n_steps_out)\n",
    "    \n",
    "    X_input_9 = train_real[-n_in_9:]\n",
    "    fpred_9 = model_predict(model9,X_input_9,n_in_9,n_steps_out)\n",
    "    \n",
    "    X_input_8 = train_real[-n_in_8:]\n",
    "    fpred_8= model_predict(model8,X_input_8,n_in_8,n_steps_out)\n",
    "    \n",
    "    X_input_7 = train_real[-n_in_7:]\n",
    "    fpred_7 = model_predict(model7,X_input_7,n_in_7,n_steps_out)\n",
    "    \n",
    "    X_input_6 = train_real[-n_in_6:]\n",
    "    fpred_6 = model_predict(model6,X_input_6,n_in_6,n_steps_out)\n",
    "    \n",
    "    X_input_5 = train_real[-n_in_5:]\n",
    "    fpred_5 = model_predict(model5,X_input_5,n_in_5,n_steps_out)\n",
    "    \n",
    "    X_input_4 = train_real[-n_in_4:]\n",
    "    fpred_4 = model_predict(model4,X_input_4,n_in_4,n_steps_out)\n",
    "    \n",
    "    X_input_3 = train_real[-n_in_3:]\n",
    "    fpred_3 = model_predict(model3,X_input_3,n_in_3,n_steps_out)\n",
    "    \n",
    "    X_input_2 = train_real[-n_in_2:]\n",
    "    fpred_2 = model_predict(model2,X_input_2,n_in_2,n_steps_out)\n",
    "    \n",
    "    X_input_1 = train_real[-n_in_1:]\n",
    "    fpred_1 = model_predict(model1,X_input_1,n_in_1,n_steps_out)\n",
    "    \n",
    "    fpred = (n_in_12*fpred_1+n_in_11*fpred_2+n_in_10*fpred_3+n_in_9*fpred_4+n_in_8*fpred_5+n_in_7*fpred_6+n_in_6*fpred_7+n_in_5*fpred_8+n_in_4*fpred_9+n_in_3*fpred_10+n_in_2*fpred_11+n_in_1*fpred_12)/(n_in_1+n_in_2+n_in_3+n_in_4+n_in_5+n_in_6+n_in_7+n_in_8+n_in_9+n_in_10+n_in_11+n_in_12)\n",
    "    fpred1 = fpred_1 + fpred_2 + fpred_3 + fpred_4 + fpred_5 + fpred_6 + fpred_7 + fpred_8 + fpred_9 + fpred_10 + fpred_11 + fpred_12\n",
    "    \n",
    "    prediction[:,i] = fpred\n",
    "    prediction1[:,i] = fpred1"
   ]
  },
  {
   "cell_type": "code",
   "execution_count": 17,
   "id": "26b6bedb",
   "metadata": {},
   "outputs": [
    {
     "name": "stdout",
     "output_type": "stream",
     "text": [
      "[[0.08424652 0.06031037 0.08882482 ... 0.55226058 0.75243898 0.28618298]\n",
      " [0.06108057 0.05472616 0.02395769 ... 0.49229259 0.44046285 0.21959249]\n",
      " [0.06715878 0.07530026 0.05038515 ... 0.52759575 0.25053214 0.22029721]\n",
      " ...\n",
      " [0.0227261  0.04634084 0.02581296 ... 0.27889707 0.27582175 0.0837275 ]\n",
      " [0.04195748 0.0247314  0.0280391  ... 0.17748775 0.28023465 0.11210028]\n",
      " [0.04339557 0.04780256 0.04594215 ... 0.14301951 0.17117921 0.08186308]]\n",
      "[[3.81018011e-01 3.72491974e-01 6.29430640e-01 ... 6.96646975e+00\n",
      "  6.63777511e+00 2.68435925e+00]\n",
      " [3.39186739e-01 4.03637314e-01 1.82893456e-01 ... 6.05665972e+00\n",
      "  3.23816394e+00 2.19636318e+00]\n",
      " [6.25076493e-01 6.01351982e-01 6.39173357e-01 ... 6.46871642e+00\n",
      "  8.47355899e-01 2.17659197e+00]\n",
      " ...\n",
      " [5.33763264e-03 4.05189965e-01 2.05085755e-01 ... 3.45340780e+00\n",
      "  1.76942197e+00 2.12506820e-01]\n",
      " [1.68579387e-01 1.35067597e-01 2.33527320e-01 ... 1.61345793e+00\n",
      "  1.64227875e+00 5.18953704e-01]\n",
      " [2.43068146e-01 4.13921130e-01 4.39898081e-01 ... 1.02622980e+00\n",
      "  5.47098551e-01 4.13254960e-01]]\n"
     ]
    }
   ],
   "source": [
    "print(prediction)\n",
    "print(prediction1)\n"
   ]
  },
  {
   "cell_type": "code",
   "execution_count": 18,
   "id": "a758d014",
   "metadata": {},
   "outputs": [
    {
     "name": "stdout",
     "output_type": "stream",
     "text": [
      "Your submission was successfully saved!\n"
     ]
    }
   ],
   "source": [
    "output = pd.DataFrame(prediction)\n",
    "output.to_csv('submission_hybrid_mix_12.csv')\n",
    "print(\"Your submission was successfully saved!\")"
   ]
  },
  {
   "cell_type": "code",
   "execution_count": 19,
   "id": "dfdb54c8",
   "metadata": {},
   "outputs": [
    {
     "name": "stdout",
     "output_type": "stream",
     "text": [
      "Your submission was successfully saved!\n"
     ]
    }
   ],
   "source": [
    "output = pd.DataFrame(prediction1)\n",
    "output.to_csv('submission_hybrid_mix_turu_12.csv')\n",
    "print(\"Your submission was successfully saved!\")"
   ]
  }
 ],
 "metadata": {
  "kernelspec": {
   "display_name": "Python 3",
   "language": "python",
   "name": "python3"
  },
  "language_info": {
   "codemirror_mode": {
    "name": "ipython",
    "version": 3
   },
   "file_extension": ".py",
   "mimetype": "text/x-python",
   "name": "python",
   "nbconvert_exporter": "python",
   "pygments_lexer": "ipython3",
   "version": "3.8.8"
  }
 },
 "nbformat": 4,
 "nbformat_minor": 5
}
