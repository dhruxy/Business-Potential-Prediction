{
 "cells": [
  {
   "cell_type": "code",
   "execution_count": 68,
   "id": "284a3e21",
   "metadata": {},
   "outputs": [
    {
     "name": "stdout",
     "output_type": "stream",
     "text": [
      "(72, 3915)\n",
      "[[0.1543245  0.11970796 0.17823648 ... 0.46352725 1.64151026 0.30708925]\n",
      " [0.12290076 0.11983117 0.16549748 ... 0.57131545 1.64993684 0.45160385]\n",
      " [0.12758278 0.11297011 0.19075444 ... 0.64402526 2.11044938 0.44806313]\n",
      " ...\n",
      " [0.37375369 0.34499689 0.40026859 ... 1.20782415 1.77394841 0.81705893]\n",
      " [0.3336417  0.30050302 0.36040647 ... 1.1479989  1.64021404 0.75481252]\n",
      " [0.24217588 0.21514682 0.33592286 ... 0.76868481 1.48927726 0.54231719]]\n",
      "Results of Dickey-Fuller Test:\n",
      "Test Statistic                 -3.830917\n",
      "p-value                         0.002606\n",
      "#Lags Used                      0.000000\n",
      "Number of Observations Used    71.000000\n",
      "Critical Value (1%)            -3.526005\n",
      "Critical Value (5%)            -2.903200\n",
      "Critical Value (10%)           -2.588995\n",
      "dtype: float64\n"
     ]
    }
   ],
   "source": [
    "import pandas as pd\n",
    "import matplotlib.pyplot as plt\n",
    "from statsmodels.tsa.api import VAR\n",
    "import math\n",
    "from sklearn.metrics import mean_absolute_percentage_error\n",
    "from tqdm import tqdm\n",
    "import time\n",
    "import numpy as np\n",
    "from keras.models import Sequential\n",
    "from keras.layers import LSTM, Dropout\n",
    "from keras.layers import Dense\n",
    "from keras.layers import RepeatVector\n",
    "from keras.layers import TimeDistributed\n",
    "from tensorflow.keras.layers import Flatten\n",
    "\n",
    "#read the data\n",
    "df = pd.read_csv(\"Dasatest.csv\",\n",
    "                infer_datetime_format=True,)\n",
    "\n",
    "#check the dtypes\n",
    "# print(df.dtypes)\n",
    "df['Month'] = pd.to_datetime(df.Month , format = '%m/%d/%Y')\n",
    "data = df.drop(['Month'], axis=1)\n",
    "data.index = df.Month\n",
    "# print(df.head())\n",
    "cols = data.columns\n",
    "\n",
    "\n",
    "\n",
    "# from sklearn.preprocessing import MinMaxScaler\n",
    "# scaler = MinMaxScaler()\n",
    "# scaler = scaler.fit(dataset)\n",
    "# dataset_scaled = scaler.transform(dataset)\n",
    "# print(dataset_scaled)\n",
    "\n",
    "# train = dataset_scaled[:int(0.84*(len(data)))]\n",
    "# valid = dataset_scaled[int(0.84*(len(data))):]\n",
    "\n",
    "# model = VAR(endog=train)\n",
    "\n",
    "# data_wo_trend1 = data.iloc[:,:2000] - data.iloc[:,:2000].shift(1)\n",
    "# data_wo_trend2 = data.iloc[:,2000:] - data.iloc[:,2000:].shift(2)\n",
    "\n",
    "# frames = [data_wo_trend1,data_wo_trend2]\n",
    "# data_wo_trend = pd.concat(frames,axis=1)\n",
    "\n",
    "# data_wo_sea = data_wo_trend - data_wo_trend.shift(12)\n",
    "\n",
    "dataset = np.array(data)\n",
    "print(dataset.shape)\n",
    "\n",
    "print(dataset)\n",
    "\n",
    "from statsmodels.tsa.stattools import adfuller\n",
    "def adf_test(timeseries):\n",
    "    #Perform Dickey-Fuller test:\n",
    "    print ('Results of Dickey-Fuller Test:')\n",
    "    dftest = adfuller(timeseries, autolag='AIC')\n",
    "    dfoutput = pd.Series(dftest[0:4], index=['Test Statistic','p-value','#Lags Used','Number of Observations Used'])\n",
    "    for key,value in dftest[4].items():\n",
    "       dfoutput['Critical Value (%s)'%key] = value\n",
    "    print (dfoutput)\n",
    "\n",
    "#apply adf test on the series\n",
    "adf_test(dataset[:,100])"
   ]
  },
  {
   "cell_type": "code",
   "execution_count": 79,
   "id": "c3a5ee81",
   "metadata": {},
   "outputs": [
    {
     "name": "stdout",
     "output_type": "stream",
     "text": [
      "[0.35147379 0.26660285 0.30932539 0.36398538 0.2879106  0.28832814\n",
      " 0.26461797 0.32934529 0.36139373 0.38754948 0.36784502 0.34934444\n",
      " 0.24063438 0.28120514 0.33225126]\n"
     ]
    }
   ],
   "source": [
    "model = VAR(dataset[:,:])\n",
    "results = model.fit(3)\n",
    "\n",
    "lag_order = results.k_ar\n",
    "prediction = results.forecast(dataset[-3:,:], steps=15)\n",
    "\n",
    "print(prediction[:,0])\n",
    "\n",
    "#converting predictions to dataframe\n",
    "\n",
    "# sum1 = 0 \n",
    "\n",
    "# pred = pd.DataFrame(index=range(0,len(prediction)),columns=[cols])\n",
    "# for j in range(0,3915):\n",
    "#     for i in range(0, len(prediction)):\n",
    "#        pred.iloc[i][j] = prediction[i][j]\n",
    "\n",
    "# #check mape\n",
    "# for i in cols:\n",
    "#     print('rmse value for', i, 'is : ', mean_absolute_percentage_error(pred.loc[:,[i]] ,valid.loc[:,[i]]))\n",
    "#     sum1 += mean_absolute_percentage_error(pred.loc[:,[i]] ,valid.loc[:,[i]])\n",
    "\n"
   ]
  },
  {
   "cell_type": "code",
   "execution_count": 17,
   "id": "8c9f0cf5",
   "metadata": {},
   "outputs": [
    {
     "name": "stdout",
     "output_type": "stream",
     "text": [
      "1085.747601569012\n"
     ]
    }
   ],
   "source": [
    "print(sum1)"
   ]
  },
  {
   "cell_type": "code",
   "execution_count": 4,
   "id": "c84584a8",
   "metadata": {},
   "outputs": [
    {
     "name": "stderr",
     "output_type": "stream",
     "text": [
      "c:\\users\\dhruv\\appdata\\local\\programs\\python\\python36\\lib\\site-packages\\statsmodels\\base\\wrapper.py:34: FutureWarning: y is a deprecated alias for endog, will be removed in version 0.11.0\n",
      "  obj = getattr(results, attr)\n"
     ]
    },
    {
     "name": "stdout",
     "output_type": "stream",
     "text": [
      "(60, 3915)\n"
     ]
    },
    {
     "name": "stderr",
     "output_type": "stream",
     "text": [
      "100%|█████████████████████████████████████████████████████████████████████████████| 3915/3915 [00:13<00:00, 282.82it/s]\n"
     ]
    },
    {
     "name": "stdout",
     "output_type": "stream",
     "text": [
      "1085.7476015690156 1\n"
     ]
    },
    {
     "name": "stderr",
     "output_type": "stream",
     "text": [
      "c:\\users\\dhruv\\appdata\\local\\programs\\python\\python36\\lib\\site-packages\\statsmodels\\base\\wrapper.py:34: FutureWarning: y is a deprecated alias for endog, will be removed in version 0.11.0\n",
      "  obj = getattr(results, attr)\n"
     ]
    },
    {
     "name": "stdout",
     "output_type": "stream",
     "text": [
      "(60, 3915)\n"
     ]
    },
    {
     "name": "stderr",
     "output_type": "stream",
     "text": [
      "100%|█████████████████████████████████████████████████████████████████████████████| 3915/3915 [00:12<00:00, 310.91it/s]\n"
     ]
    },
    {
     "name": "stdout",
     "output_type": "stream",
     "text": [
      "981.4720824878063 2\n"
     ]
    },
    {
     "name": "stderr",
     "output_type": "stream",
     "text": [
      "c:\\users\\dhruv\\appdata\\local\\programs\\python\\python36\\lib\\site-packages\\statsmodels\\base\\wrapper.py:34: FutureWarning: y is a deprecated alias for endog, will be removed in version 0.11.0\n",
      "  obj = getattr(results, attr)\n"
     ]
    },
    {
     "name": "stdout",
     "output_type": "stream",
     "text": [
      "(60, 3915)\n"
     ]
    },
    {
     "name": "stderr",
     "output_type": "stream",
     "text": [
      "100%|█████████████████████████████████████████████████████████████████████████████| 3915/3915 [00:12<00:00, 317.88it/s]\n"
     ]
    },
    {
     "name": "stdout",
     "output_type": "stream",
     "text": [
      "1103.1410103674277 3\n"
     ]
    },
    {
     "name": "stderr",
     "output_type": "stream",
     "text": [
      "c:\\users\\dhruv\\appdata\\local\\programs\\python\\python36\\lib\\site-packages\\statsmodels\\base\\wrapper.py:34: FutureWarning: y is a deprecated alias for endog, will be removed in version 0.11.0\n",
      "  obj = getattr(results, attr)\n"
     ]
    },
    {
     "name": "stdout",
     "output_type": "stream",
     "text": [
      "(60, 3915)\n"
     ]
    },
    {
     "name": "stderr",
     "output_type": "stream",
     "text": [
      "100%|█████████████████████████████████████████████████████████████████████████████| 3915/3915 [00:12<00:00, 324.01it/s]\n"
     ]
    },
    {
     "name": "stdout",
     "output_type": "stream",
     "text": [
      "1072.5784699377962 4\n"
     ]
    },
    {
     "name": "stderr",
     "output_type": "stream",
     "text": [
      "c:\\users\\dhruv\\appdata\\local\\programs\\python\\python36\\lib\\site-packages\\statsmodels\\base\\wrapper.py:34: FutureWarning: y is a deprecated alias for endog, will be removed in version 0.11.0\n",
      "  obj = getattr(results, attr)\n"
     ]
    },
    {
     "name": "stdout",
     "output_type": "stream",
     "text": [
      "(60, 3915)\n"
     ]
    },
    {
     "name": "stderr",
     "output_type": "stream",
     "text": [
      "100%|█████████████████████████████████████████████████████████████████████████████| 3915/3915 [00:12<00:00, 320.43it/s]\n"
     ]
    },
    {
     "name": "stdout",
     "output_type": "stream",
     "text": [
      "1121.6415763649857 5\n"
     ]
    },
    {
     "name": "stderr",
     "output_type": "stream",
     "text": [
      "c:\\users\\dhruv\\appdata\\local\\programs\\python\\python36\\lib\\site-packages\\statsmodels\\base\\wrapper.py:34: FutureWarning: y is a deprecated alias for endog, will be removed in version 0.11.0\n",
      "  obj = getattr(results, attr)\n"
     ]
    },
    {
     "name": "stdout",
     "output_type": "stream",
     "text": [
      "(60, 3915)\n"
     ]
    },
    {
     "name": "stderr",
     "output_type": "stream",
     "text": [
      "100%|█████████████████████████████████████████████████████████████████████████████| 3915/3915 [00:11<00:00, 326.40it/s]"
     ]
    },
    {
     "name": "stdout",
     "output_type": "stream",
     "text": [
      "1102.0567142428388 6\n"
     ]
    },
    {
     "name": "stderr",
     "output_type": "stream",
     "text": [
      "\n"
     ]
    }
   ],
   "source": [
    "for k in range(6):\n",
    "    model_fit = model.fit(k+1)\n",
    "\n",
    "    prediction = model_fit.forecast(model_fit.y, steps=len(valid))\n",
    "\n",
    "    print(train.shape)\n",
    "\n",
    "    #converting predictions to dataframe\n",
    "\n",
    "    sum1 = 0 \n",
    "    \n",
    "    pred = pd.DataFrame(index=range(0,len(prediction)),columns=[cols])\n",
    "    for j in range(0,3915):\n",
    "        for i in range(0, len(prediction)):\n",
    "           pred.iloc[i][j] = prediction[i][j]\n",
    "    \n",
    "    #check mape\n",
    "    for i in tqdm(cols):\n",
    "        #print('rmse value for', i, 'is : ', mean_absolute_percentage_error(pred[i], valid[i]))\n",
    "        sum1 += mean_absolute_percentage_error(pred.loc[:,[i]] ,valid.loc[:,[i]])\n",
    "\n",
    "    print(sum1,k+1)\n",
    "\n",
    "# model = VAR(endog=data)\n",
    "# model_fit = model.fit(12)\n",
    "# yhat = model_fit.forecast(model_fit.y, steps=15)\n",
    "# print(yhat)\n",
    "\n",
    "# output = pd.DataFrame(yhat)\n",
    "# output.to_csv('submission_12.csv')\n",
    "# print(\"Your submission was successfully saved!\")\n",
    "\n",
    "\n",
    "\n",
    "\n",
    "\n"
   ]
  },
  {
   "cell_type": "code",
   "execution_count": null,
   "id": "bbfbb9c3",
   "metadata": {},
   "outputs": [],
   "source": []
  }
 ],
 "metadata": {
  "kernelspec": {
   "display_name": "Python 3",
   "language": "python",
   "name": "python3"
  },
  "language_info": {
   "codemirror_mode": {
    "name": "ipython",
    "version": 3
   },
   "file_extension": ".py",
   "mimetype": "text/x-python",
   "name": "python",
   "nbconvert_exporter": "python",
   "pygments_lexer": "ipython3",
   "version": "3.8.8"
  }
 },
 "nbformat": 4,
 "nbformat_minor": 5
}
