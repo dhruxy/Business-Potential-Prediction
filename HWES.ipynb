{
 "cells": [
  {
   "cell_type": "code",
   "execution_count": 1,
   "id": "5bc0329d",
   "metadata": {},
   "outputs": [],
   "source": [
    "import numpy as np\n",
    "import pandas as pd\n",
    "from matplotlib import pyplot as plt\n",
    "from sklearn.preprocessing import MinMaxScaler\n",
    "import seaborn as sns\n",
    "from tqdm import tqdm\n",
    "from sklearn.metrics import mean_absolute_percentage_error\n",
    "from statsmodels.tsa.holtwinters import ExponentialSmoothing as HWES"
   ]
  },
  {
   "cell_type": "code",
   "execution_count": 2,
   "id": "675d9cb1",
   "metadata": {},
   "outputs": [],
   "source": [
    "df = pd.read_csv('Dasatest_N.csv')\n",
    "df['Month'] = pd.to_datetime(df.Month , format = '%d-%m-%Y')\n",
    "data = df.drop(['Month'], axis=1)\n",
    "data.index = df.Month\n",
    "cols = data.columns\n",
    "data.index.freq = 'MS'"
   ]
  },
  {
   "cell_type": "code",
   "execution_count": 4,
   "id": "fbb50ff7",
   "metadata": {},
   "outputs": [
    {
     "name": "stdout",
     "output_type": "stream",
     "text": [
      "Month\n",
      "2013-01-01    0.479931\n",
      "2013-02-01    0.509692\n",
      "2013-03-01    0.718891\n",
      "2013-04-01    0.758855\n",
      "2013-05-01    0.681279\n",
      "                ...   \n",
      "2018-08-01    0.929804\n",
      "2018-09-01    0.044350\n",
      "2018-10-01    0.990239\n",
      "2018-11-01    0.904882\n",
      "2018-12-01    0.913983\n",
      "Freq: MS, Name: Region 1001, Length: 72, dtype: float64\n"
     ]
    }
   ],
   "source": [
    "# df.plot()\n",
    "# plt.show()\n",
    "# print(data.head())\n",
    "data_1 = data.iloc[:,1000]\n",
    "data_1 = data_1\n",
    "print(data_1)"
   ]
  },
  {
   "cell_type": "code",
   "execution_count": 10,
   "id": "7e01a9a4",
   "metadata": {},
   "outputs": [],
   "source": [
    "df_train = data_1.iloc[:-12]\n",
    "df_test = data_1.iloc[-12:]"
   ]
  },
  {
   "cell_type": "code",
   "execution_count": 11,
   "id": "e67ff277",
   "metadata": {},
   "outputs": [],
   "source": [
    "model = HWES(df_train, seasonal_periods=12,seasonal='mul')\n",
    "fitted = model.fit()"
   ]
  },
  {
   "cell_type": "code",
   "execution_count": 12,
   "id": "0fd0f871",
   "metadata": {},
   "outputs": [],
   "source": [
    "# print(fitted.summary())"
   ]
  },
  {
   "cell_type": "code",
   "execution_count": 13,
   "id": "28cdd860",
   "metadata": {},
   "outputs": [],
   "source": [
    "sales_forecast = fitted.forecast(steps=12)"
   ]
  },
  {
   "cell_type": "code",
   "execution_count": 18,
   "id": "e2c22090",
   "metadata": {
    "scrolled": true
   },
   "outputs": [
    {
     "data": {
      "image/png": "[encoded data removed]",
      "text/plain": [
       "<Figure size 432x288 with 1 Axes>"
      ]
     },
     "metadata": {
      "needs_background": "light"
     },
     "output_type": "display_data"
    }
   ],
   "source": [
    "fig = plt.figure()\n",
    "fig.suptitle('Retail Sales of Used Cars in the US (1992-2020)')\n",
    "past, = plt.plot(df_train.index, df_train, 'b.-', label='Sales History')\n",
    "# future, = plt.plot(df_test.index, df_test, 'r.-', label='Actual Sales')\n",
    "predicted_future, = plt.plot(df_test.index, sales_forecast, 'g.-', label='Sales Forecast')\n",
    "plt.legend(handles=[past, future, predicted_future])\n",
    "plt.show()"
   ]
  },
  {
   "cell_type": "code",
   "execution_count": 15,
   "id": "9f2a5eb2",
   "metadata": {},
   "outputs": [
    {
     "name": "stdout",
     "output_type": "stream",
     "text": [
      "10.044152914942464\n"
     ]
    }
   ],
   "source": [
    "print(mean_absolute_percentage_error(df_test,sales_forecast))"
   ]
  },
  {
   "cell_type": "code",
   "execution_count": 342,
   "id": "f001d586",
   "metadata": {},
   "outputs": [],
   "source": [
    "prediction = np.zeros([15,3915])"
   ]
  },
  {
   "cell_type": "code",
   "execution_count": 356,
   "id": "f0c1c56b",
   "metadata": {},
   "outputs": [
    {
     "name": "stderr",
     "output_type": "stream",
     "text": [
      "100%|██████████████████████████████████████████████████████████████████████████████| 3915/3915 [07:25<00:00,  8.79it/s]\n"
     ]
    }
   ],
   "source": [
    "for i in tqdm(range(3915)):\n",
    "    data_train = np.array(data.iloc[:,i]) + 1000\n",
    "    model = HWES(data_train, seasonal_periods=12,seasonal='mul',trend='add',damped_trend=True)\n",
    "    fitted = model.fit()\n",
    "    pred = fitted.forecast(steps=15)\n",
    "    pred = np.array(pred) \n",
    "    prediction[:,i] = pred - 1000"
   ]
  },
  {
   "cell_type": "code",
   "execution_count": 357,
   "id": "14e26dae",
   "metadata": {},
   "outputs": [
    {
     "name": "stdout",
     "output_type": "stream",
     "text": [
      "[[0.26184014 0.22491314 0.30535469 ... 0.84911907 1.70373555 0.63478434]\n",
      " [0.27927514 0.25330886 0.32355435 ... 0.99365617 1.80662494 0.77388057]\n",
      " [0.3044825  0.30963691 0.36510496 ... 0.91127714 1.87369282 0.7139362 ]\n",
      " ...\n",
      " [0.27049125 0.23874762 0.32195477 ... 0.84381454 1.70802859 0.66882609]\n",
      " [0.28783988 0.26700312 0.33998859 ... 0.98902249 1.81072751 0.80755561]\n",
      " [0.31296179 0.32319277 0.38137538 ... 0.90723039 1.87761323 0.74724186]]\n"
     ]
    }
   ],
   "source": [
    "print(prediction)"
   ]
  },
  {
   "cell_type": "code",
   "execution_count": 358,
   "id": "ef14ea65",
   "metadata": {},
   "outputs": [
    {
     "name": "stdout",
     "output_type": "stream",
     "text": [
      "Your submission was successfully saved!\n"
     ]
    }
   ],
   "source": [
    "output = pd.DataFrame(prediction)\n",
    "output.to_csv('submission_HWES_with_trend.csv')\n",
    "print(\"Your submission was successfully saved!\")"
   ]
  },
  {
   "cell_type": "code",
   "execution_count": null,
   "id": "dc4a640c",
   "metadata": {},
   "outputs": [],
   "source": []
  }
 ],
 "metadata": {
  "kernelspec": {
   "display_name": "Python 3",
   "language": "python",
   "name": "python3"
  },
  "language_info": {
   "codemirror_mode": {
    "name": "ipython",
    "version": 3
   },
   "file_extension": ".py",
   "mimetype": "text/x-python",
   "name": "python",
   "nbconvert_exporter": "python",
   "pygments_lexer": "ipython3",
   "version": "3.8.8"
  }
 },
 "nbformat": 4,
 "nbformat_minor": 5
}
