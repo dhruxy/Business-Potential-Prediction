{
 "cells": [
  {
   "cell_type": "code",
   "execution_count": 1,
   "id": "9f531ce5",
   "metadata": {},
   "outputs": [],
   "source": [
    "import numpy as np\n",
    "from numpy import asarray\n",
    "import pandas as pd\n",
    "from matplotlib import pyplot as plt\n",
    "from sklearn.preprocessing import MinMaxScaler\n",
    "import seaborn as sns\n",
    "from tqdm import tqdm\n",
    "from sklearn.metrics import mean_absolute_percentage_error\n",
    "from sklearn.metrics import mean_squared_error\n",
    "from sklearn.ensemble import RandomForestRegressor\n",
    "from pandas import read_csv\n",
    "from pandas import DataFrame\n",
    "from pandas import concat\n",
    "from xgboost import XGBRegressor"
   ]
  },
  {
   "cell_type": "code",
   "execution_count": 2,
   "id": "e696bdec",
   "metadata": {},
   "outputs": [],
   "source": []
  },
  {
   "cell_type": "code",
   "execution_count": 3,
   "id": "92ad23c6",
   "metadata": {},
   "outputs": [],
   "source": [
    "df = pd.read_csv('Dasatest_N0.csv')\n",
    "df['Month'] = pd.to_datetime(df.Month , format = '%d/%m/%Y')\n",
    "data = df.drop(['Month'], axis=1)\n",
    "data.index = df.Month\n",
    "cols = data.columns"
   ]
  },
  {
   "cell_type": "code",
   "execution_count": 4,
   "id": "ef53f6d0",
   "metadata": {},
   "outputs": [],
   "source": [
    "pred = np.zeros([15,3915])"
   ]
  },
  {
   "cell_type": "code",
   "execution_count": 5,
   "id": "f2491d15",
   "metadata": {},
   "outputs": [],
   "source": [
    "# preparing independent and dependent features\n",
    "def prepare_data(timeseries_data, n_features):\n",
    "\tX, y =[],[]\n",
    "\tfor i in range(len(timeseries_data)):\n",
    "\t\t# find the end of this pattern\n",
    "\t\tend_ix = i + n_features\n",
    "\t\t# check if we are beyond the sequence\n",
    "\t\tif end_ix > len(timeseries_data)-1:\n",
    "\t\t\tbreak\n",
    "\t\t# gather input and output parts of the pattern\n",
    "\t\tseq_x, seq_y = timeseries_data[i:end_ix], timeseries_data[end_ix]\n",
    "\t\tX.append(seq_x)\n",
    "\t\ty.append(seq_y)\n",
    "\treturn np.array(X), np.array(y)"
   ]
  },
  {
   "cell_type": "code",
   "execution_count": 6,
   "id": "276e5602",
   "metadata": {},
   "outputs": [],
   "source": [
    "def series_to_supervised(data, n_in=1, n_out=1, dropnan=True):\n",
    "# \tn_vars = 1 if type(data) is list else data.shape[1]\n",
    "\tdf = DataFrame(data)\n",
    "\tcols = list()\n",
    "\t# input sequence (t-n, ... t-1)\n",
    "\tfor i in range(n_in, 0, -1):\n",
    "\t\tcols.append(df.shift(i))\n",
    "\t# forecast sequence (t, t+1, ... t+n)\n",
    "\tfor i in range(0, n_out):\n",
    "\t\tcols.append(df.shift(-i))\n",
    "\t# put it all together\n",
    "\tagg = concat(cols, axis=1)\n",
    "\t# drop rows with NaN values\n",
    "\tif dropnan:\n",
    "\t\tagg.dropna(inplace=True)\n",
    "\treturn agg.values  "
   ]
  },
  {
   "cell_type": "code",
   "execution_count": 7,
   "id": "b6219eb7",
   "metadata": {},
   "outputs": [],
   "source": [
    "def model_create(X, y):\n",
    "    model = XGBRegressor(objective='reg:squarederror', n_estimators=10)\n",
    "    model.fit(X, y)\n",
    "    return model"
   ]
  },
  {
   "cell_type": "code",
   "execution_count": 8,
   "id": "0301b472",
   "metadata": {},
   "outputs": [],
   "source": [
    "def model_create_2(X, y):\n",
    "    model = RandomForestRegressor(n_estimators=5)\n",
    "    model.fit(X, y)\n",
    "    return model"
   ]
  },
  {
   "cell_type": "code",
   "execution_count": 11,
   "id": "5375e2b4",
   "metadata": {},
   "outputs": [],
   "source": [
    "def model_predict(model,X_input,n_steps,n_steps_out):   \n",
    "    x_input = X_input\n",
    "#     print(x_input)\n",
    "    temp_input = list(x_input)\n",
    "#     print(len(temp_input))\n",
    "    lst_output=[]\n",
    "    i = 0\n",
    "    while(i < n_steps_out):\n",
    "        \n",
    "        if(len(temp_input)>n_steps):\n",
    "            x_input=np.array(temp_input[1:])\n",
    "#             print(\"{} day input {}\".format(i,x_input))\n",
    "            #print(x_input)\n",
    "            x_input = x_input.reshape(n_steps)\n",
    "            #print(x_input)\n",
    "            yhat = model.predict(asarray([x_input]))\n",
    "#             print(\"{} day output {}\".format(i,yhat))\n",
    "            temp_input.append(yhat[0])\n",
    "            temp_input=temp_input[1:]\n",
    "            #print(temp_input)\n",
    "            lst_output.append(yhat[0])\n",
    "            i=i+1\n",
    "        else:\n",
    "            x_input = x_input.reshape(n_steps)\n",
    "            yhat = model.predict(asarray([x_input]))\n",
    "#             print(yhat[0])\n",
    "            temp_input.append(yhat[0])\n",
    "            lst_output.append(yhat[0])\n",
    "            i=i+1\n",
    "\n",
    "#     print(lst_output)\n",
    "    return(np.array(lst_output))"
   ]
  },
  {
   "cell_type": "code",
   "execution_count": 12,
   "id": "01bb1c34",
   "metadata": {},
   "outputs": [],
   "source": [
    "def plot_graph(X,pred):\n",
    "    time = np.arange(87)\n",
    "    plt.plot(time[60:72],X)\n",
    "    plt.plot(time[60:72],pred)\n",
    "    plt.show()"
   ]
  },
  {
   "cell_type": "code",
   "execution_count": 13,
   "id": "8c16f46e",
   "metadata": {},
   "outputs": [],
   "source": [
    "prediction = np.zeros([15,3915])\n",
    "prediction1 = np.zeros([15,3915])\n",
    "sum1 = 0 "
   ]
  },
  {
   "cell_type": "code",
   "execution_count": 14,
   "id": "97866a10",
   "metadata": {},
   "outputs": [],
   "source": [
    "def model_sarakam(n_in,train_real,rem):\n",
    "    train = series_to_supervised(train_real, n_in=n_in)\n",
    "    # split into input and output columns\n",
    "    trainX, trainy = train[:, :-1], train[:, -1]\n",
    "#     print(trainX.shape)\n",
    "    model = model_create(trainX, rem[-len(trainX):])\n",
    "    X_input = data_total[:n_in].reshape((n_in))\n",
    "    n_steps_out = len(trainX)\n",
    "    pred = model_predict(model,X_input,n_in,n_steps_out)\n",
    "    pred = np.array(pred)\n",
    "    return pred,model"
   ]
  },
  {
   "cell_type": "code",
   "execution_count": 15,
   "id": "e644d495",
   "metadata": {},
   "outputs": [],
   "source": [
    "def model_sarakam_2(n_in,train_real,rem):\n",
    "    train = series_to_supervised(train_real, n_in=n_in)\n",
    "    # split into input and output columns\n",
    "    trainX, trainy = train[:, :-1], train[:, -1]\n",
    "#     print(trainX.shape)\n",
    "    model = model_create_2(trainX, rem[-len(trainX):])\n",
    "    X_input = data_total[:n_in].reshape((n_in))\n",
    "    n_steps_out = len(trainX)\n",
    "    pred = model_predict(model,X_input,n_in,n_steps_out)\n",
    "    pred = np.array(pred)\n",
    "    return pred,model"
   ]
  },
  {
   "cell_type": "code",
   "execution_count": null,
   "id": "7c3a659e",
   "metadata": {
    "scrolled": true
   },
   "outputs": [
    {
     "name": "stderr",
     "output_type": "stream",
     "text": [
      "  1%|▉                                                                               | 47/3915 [00:27<40:08,  1.61it/s]"
     ]
    }
   ],
   "source": [
    "sum1 = 0\n",
    "for i in tqdm(range(3915)):\n",
    "    data_total = np.array(data.iloc[:,i])\n",
    "    train_real = data_total\n",
    "#     valid = data_total[60:]\n",
    "    \n",
    "    n_in_1 = 3\n",
    "    pred1, model1 = model_sarakam(n_in_1,train_real,train_real)\n",
    "    rem1 = train_real[-len(pred1):] - pred1\n",
    "    \n",
    "    n_in_2 = 6\n",
    "    pred2, model2 = model_sarakam_2(n_in_2,train_real,rem1)\n",
    "    rem2 = rem1[-len(pred2):] - pred2\n",
    "    \n",
    "    n_in_3 = 12\n",
    "    pred3, model3 = model_sarakam(n_in_3,train_real,rem2)\n",
    "    rem3 = rem2[-len(pred3):] - pred3\n",
    "    \n",
    "    n_in_4 = 18\n",
    "    pred4, model4 = model_sarakam_2(n_in_4,train_real,rem3)\n",
    "    rem4 = rem3[-len(pred4):] - pred4\n",
    "    \n",
    "    n_in_5 = 24\n",
    "    pred5, model5 = model_sarakam(n_in_5,train_real,rem4)\n",
    "    rem5 = rem4[-len(pred5):] - pred5\n",
    "    \n",
    "    n_in_6 = 36\n",
    "    pred6, model6 = model_sarakam_2(n_in_6,train_real,rem5)\n",
    "    rem6 = rem5[-len(pred6):] - pred6\n",
    "    \n",
    "    n_steps_out = 15\n",
    "    \n",
    "    X_input_6 = train_real[-n_in_6:]\n",
    "    fpred_6 = model_predict(model6,X_input_6,n_in_6,n_steps_out)\n",
    "    \n",
    "    X_input_5 = train_real[-n_in_5:]\n",
    "    fpred_5 = model_predict(model5,X_input_5,n_in_5,n_steps_out)\n",
    "    \n",
    "    X_input_4 = train_real[-n_in_4:]\n",
    "    fpred_4 = model_predict(model4,X_input_4,n_in_4,n_steps_out)\n",
    "    \n",
    "    X_input_3 = train_real[-n_in_3:]\n",
    "    fpred_3 = model_predict(model3,X_input_3,n_in_3,n_steps_out)\n",
    "    \n",
    "    X_input_2 = train_real[-n_in_2:]\n",
    "    fpred_2 = model_predict(model2,X_input_2,n_in_2,n_steps_out)\n",
    "    \n",
    "    X_input_1 = train_real[-n_in_1:]\n",
    "    fpred_1 = model_predict(model1,X_input_1,n_in_1,n_steps_out)\n",
    "    \n",
    "    fpred = (n_in_6*fpred_1+n_in_5*fpred_2+n_in_4*fpred_3+n_in_3*fpred_4+n_in_2*fpred_5+n_in_1*fpred_6)/(n_in_1+n_in_2+n_in_3+n_in_4+n_in_5+n_in_6)\n",
    "    fpred1 = fpred_1 + fpred_2 + fpred_3 + fpred_4 + fpred_5 + fpred_6\n",
    "    \n",
    "    prediction[:,i] = fpred\n",
    "    prediction1[:,i] = fpred1"
   ]
  },
  {
   "cell_type": "code",
   "execution_count": null,
   "id": "26b6bedb",
   "metadata": {},
   "outputs": [],
   "source": [
    "print(prediction)\n",
    "print(prediction1)\n"
   ]
  },
  {
   "cell_type": "code",
   "execution_count": null,
   "id": "a758d014",
   "metadata": {},
   "outputs": [],
   "source": [
    "output = pd.DataFrame(prediction)\n",
    "output.to_csv('submission_hybrid_mix_1.csv')\n",
    "print(\"Your submission was successfully saved!\")"
   ]
  },
  {
   "cell_type": "code",
   "execution_count": null,
   "id": "dfdb54c8",
   "metadata": {},
   "outputs": [],
   "source": [
    "output = pd.DataFrame(prediction1)\n",
    "output.to_csv('submission_hybrid_mix_t.csv')\n",
    "print(\"Your submission was successfully saved!\")"
   ]
  }
 ],
 "metadata": {
  "kernelspec": {
   "display_name": "Python 3",
   "language": "python",
   "name": "python3"
  },
  "language_info": {
   "codemirror_mode": {
    "name": "ipython",
    "version": 3
   },
   "file_extension": ".py",
   "mimetype": "text/x-python",
   "name": "python",
   "nbconvert_exporter": "python",
   "pygments_lexer": "ipython3",
   "version": "3.8.8"
  }
 },
 "nbformat": 4,
 "nbformat_minor": 5
}
